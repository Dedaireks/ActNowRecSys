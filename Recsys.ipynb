{
  "nbformat": 4,
  "nbformat_minor": 0,
  "metadata": {
    "colab": {
      "provenance": [],
      "authorship_tag": "ABX9TyOe3hccwOVO1tyQGT4SI73d",
      "include_colab_link": true
    },
    "kernelspec": {
      "name": "python3",
      "display_name": "Python 3"
    },
    "language_info": {
      "name": "python"
    }
  },
  "cells": [
    {
      "cell_type": "markdown",
      "metadata": {
        "id": "view-in-github",
        "colab_type": "text"
      },
      "source": [
        "<a href=\"https://colab.research.google.com/github/Dedaireks/ActNowRecSys/blob/master/Recsys.ipynb\" target=\"_parent\"><img src=\"https://colab.research.google.com/assets/colab-badge.svg\" alt=\"Open In Colab\"/></a>"
      ]
    },
    {
      "cell_type": "code",
      "source": [
        "!pip install numpy pandas surprise joblib\n"
      ],
      "metadata": {
        "colab": {
          "base_uri": "https://localhost:8080/"
        },
        "id": "zWdIbSk7RSMz",
        "outputId": "186d0b89-e7db-43af-f970-afef9047fa00"
      },
      "execution_count": 9,
      "outputs": [
        {
          "output_type": "stream",
          "name": "stdout",
          "text": [
            "Requirement already satisfied: numpy in /usr/local/lib/python3.10/dist-packages (1.25.2)\n",
            "Requirement already satisfied: pandas in /usr/local/lib/python3.10/dist-packages (2.0.3)\n",
            "Requirement already satisfied: surprise in /usr/local/lib/python3.10/dist-packages (0.1)\n",
            "Requirement already satisfied: joblib in /usr/local/lib/python3.10/dist-packages (1.4.2)\n",
            "Requirement already satisfied: python-dateutil>=2.8.2 in /usr/local/lib/python3.10/dist-packages (from pandas) (2.8.2)\n",
            "Requirement already satisfied: pytz>=2020.1 in /usr/local/lib/python3.10/dist-packages (from pandas) (2023.4)\n",
            "Requirement already satisfied: tzdata>=2022.1 in /usr/local/lib/python3.10/dist-packages (from pandas) (2024.1)\n",
            "Requirement already satisfied: scikit-surprise in /usr/local/lib/python3.10/dist-packages (from surprise) (1.1.4)\n",
            "Requirement already satisfied: six>=1.5 in /usr/local/lib/python3.10/dist-packages (from python-dateutil>=2.8.2->pandas) (1.16.0)\n",
            "Requirement already satisfied: scipy>=1.6.0 in /usr/local/lib/python3.10/dist-packages (from scikit-surprise->surprise) (1.11.4)\n"
          ]
        }
      ]
    },
    {
      "cell_type": "code",
      "source": [
        "import numpy as np\n",
        "import pandas as pd\n",
        "import random\n",
        "from datetime import datetime, timedelta\n",
        "\n",
        "# Определение структуры тегов и подтегов\n",
        "possible_tags = {\n",
        "    \"спорт\": [\"волейбол\", \"футбол\", \"теннис\", \"бильярд\", \"боулинг\", \"конный спорт\", \"хоббихорсинг\", \"фигурное катание\", \"спортзал\", \"автоспорт\", \"боевые искусства\", \"горнолыжный спорт\", \"бег\", \"велоспорт\", \"йога\", \"плавание\"],\n",
        "    \"еда\": [\"ресторан (кафе)\", \"кофейня\", \"бар\", \"кулинария\"],\n",
        "    \"развлечения\": [\"игры\", \"компьютерные игры\", \"кальян\", \"антикафе\", \"на свежем воздухе\", \"астрология\", \"книги\", \"животные\", \"рисование\", \"танцы\", \"фотография\"],\n",
        "    \"культура\": [\"театр\", \"кинотеатр\", \"музей\", \"выставка\", \"музыка\", \"религия\"],\n",
        "    \"образование\": [\"лекция\", \"митап\", \"конференция\", \"университет\", \"школа\", \"колледж\", \"тренинг\", \"курс\"],\n",
        "    \"туризм\": [\"горы\", \"море\", \"пустыня\", \"лес\", \"россия\", \"зарубежье\"],\n",
        "    \"шопинг\": [],\n",
        "    \"праздники\": [\"новый год\", \"день победы\", \"праздник весны и труда (1 мая)\", \"пасха\", \"день знаний (1 сентября)\", \"международный женский день (8 марта)\", \"день защитника отечества (23 февраля)\", \"день святого валентина (14 февраля)\", \"рождество\", \"масленица\", \"хеллоуин\"],\n",
        "    \"семья\": [],\n",
        "    \"с друзьями\": []\n",
        "}\n",
        "\n",
        "# Создание пользователей с интересами, созданными голсами и историями, лайками голсов и историй\n",
        "def generate_users(num_users=100, num_posts=200, max_likes=20, max_stories_likes=50):\n",
        "    users = []\n",
        "    for user_id in range(num_users):\n",
        "        interests = []\n",
        "        for tag, subtags in possible_tags.items():\n",
        "            if random.random() > 0.5:\n",
        "                interests.append(tag)\n",
        "                if subtags and random.random() > 0.5:\n",
        "                    interests.extend(random.sample(subtags, random.randint(1, len(subtags))))\n",
        "        created_posts = random.sample(range(num_posts), random.randint(0, 10))\n",
        "        created_stories = []\n",
        "        liked_posts = random.sample(range(num_posts), random.randint(0, min(num_posts // 5, max_likes)))\n",
        "        # Случайное распределение с большей вероятностью нулевых лайков\n",
        "        liked_stories_count = random.choices(range(max_stories_likes + 1), k=1, weights=[10] + [1]*max_stories_likes)[0]\n",
        "        liked_stories = random.sample(range(num_stories), liked_stories_count)\n",
        "        users.append({\n",
        "            'id': user_id,\n",
        "            'interests': interests,\n",
        "            'created_posts': created_posts,\n",
        "            'created_stories': created_stories,\n",
        "            'liked_posts': liked_posts,\n",
        "            'liked_stories': liked_stories\n",
        "        })\n",
        "    return pd.DataFrame(users)\n",
        "\n",
        "# Создание постов с тегами и привязкой историй\n",
        "def generate_posts_and_stories(num_posts=200, num_stories=500, num_users=100):\n",
        "    posts = []\n",
        "    stories = []\n",
        "    for post_id in range(num_posts):\n",
        "        tags = []\n",
        "        for tag, subtags in possible_tags.items():\n",
        "            if random.random() > 0.5:\n",
        "                tags.append(tag)\n",
        "                if subtags and random.random() > 0.5:\n",
        "                    tags.extend(random.sample(subtags, random.randint(1, len(subtags))))\n",
        "        tags = random.sample(tags, min(len(tags), 5))  # Ограничение на максимум 5 тегов\n",
        "        post_stories = []\n",
        "        author_id = random.randint(0, num_users - 1)\n",
        "        published_at = datetime.now() - timedelta(days=random.randint(0, 30))  # Публикация в последние 30 дней\n",
        "        num_post_stories = random.randint(1, 10)  # Увеличенный диапазон историй для каждого поста\n",
        "        for _ in range(num_post_stories):\n",
        "            story_id = len(stories)\n",
        "            liked_by = random.sample(range(num_users), random.randint(0, num_users // 5))  # Ограничение количества лайков\n",
        "            stories.append({\n",
        "                'id': story_id,\n",
        "                'goal_id': post_id,\n",
        "                'likes': len(liked_by),\n",
        "                'published_at': datetime.now() - timedelta(days=random.randint(0, 30)),\n",
        "                'author_id': author_id,\n",
        "                'liked_by': liked_by\n",
        "            })\n",
        "            post_stories.append(story_id)\n",
        "            users.at[author_id, 'created_stories'].append(story_id)\n",
        "            for user_id in liked_by:\n",
        "                users.at[user_id, 'liked_stories'].append(story_id)\n",
        "        posts.append({\n",
        "            'id': post_id,\n",
        "            'tags': tags,\n",
        "            'stories': post_stories,\n",
        "            'author_id': author_id,\n",
        "            'published_at': published_at\n",
        "        })\n",
        "    return pd.DataFrame(posts), pd.DataFrame(stories)\n",
        "\n",
        "# Генерация данных\n",
        "num_stories = 500\n",
        "users = generate_users(num_users=100, num_posts=200, max_likes=20, max_stories_likes=50)\n",
        "posts, stories = generate_posts_and_stories(num_posts=200, num_stories=num_stories, num_users=100)\n",
        "\n",
        "# Отображение данных\n",
        "print(f\"Пользователи:\\n{users.head()}\")\n",
        "print(f\"\\nПосты:\\n{posts.head()}\")\n",
        "print(f\"\\nИстории:\\n{stories.head()}\")\n"
      ],
      "metadata": {
        "colab": {
          "base_uri": "https://localhost:8080/"
        },
        "id": "uMpWp2Zlemzw",
        "outputId": "51a0e59d-78f5-4bb0-d39b-f407790caba8"
      },
      "execution_count": 10,
      "outputs": [
        {
          "output_type": "stream",
          "name": "stdout",
          "text": [
            "Пользователи:\n",
            "   id                                          interests  \\\n",
            "0   0  [культура, туризм, лес, россия, пустыня, море,...   \n",
            "1   1  [спорт, еда, кулинария, кофейня, бар, развлече...   \n",
            "2   2  [спорт, хоббихорсинг, бильярд, бег, автоспорт,...   \n",
            "3   3  [развлечения, кальян, танцы, образование, мита...   \n",
            "4   4                [туризм, шопинг, семья, с друзьями]   \n",
            "\n",
            "                                 created_posts  \\\n",
            "0  [149, 191, 72, 41, 182, 9, 52, 82, 131, 12]   \n",
            "1      [90, 78, 57, 131, 160, 194, 15, 76, 11]   \n",
            "2                                 [98, 26, 69]   \n",
            "3     [37, 91, 135, 171, 61, 29, 132, 185, 65]   \n",
            "4                 [2, 87, 72, 7, 195, 170, 64]   \n",
            "\n",
            "                                     created_stories  \\\n",
            "0  [32, 33, 34, 35, 763, 764, 765, 766, 767, 984,...   \n",
            "1  [412, 413, 414, 415, 416, 417, 418, 420, 421, ...   \n",
            "2  [566, 567, 568, 569, 570, 571, 572, 573, 574, ...   \n",
            "3                                                 []   \n",
            "4                                              [836]   \n",
            "\n",
            "                                         liked_posts  \\\n",
            "0  [25, 95, 33, 39, 134, 116, 127, 131, 172, 50, ...   \n",
            "1  [91, 8, 175, 65, 23, 178, 181, 51, 19, 143, 18...   \n",
            "2  [121, 10, 178, 124, 160, 173, 195, 19, 179, 14...   \n",
            "3  [39, 113, 60, 76, 153, 49, 97, 14, 10, 119, 32...   \n",
            "4  [120, 127, 197, 164, 134, 37, 136, 46, 118, 91...   \n",
            "\n",
            "                                       liked_stories  \n",
            "0  [5, 17, 23, 24, 26, 44, 59, 62, 66, 75, 93, 10...  \n",
            "1  [331, 43, 112, 457, 110, 298, 326, 363, 297, 4...  \n",
            "2  [88, 265, 98, 268, 429, 237, 431, 316, 153, 21...  \n",
            "3  [183, 197, 165, 184, 440, 405, 226, 420, 102, ...  \n",
            "4  [149, 351, 228, 440, 418, 429, 203, 393, 384, ...  \n",
            "\n",
            "Посты:\n",
            "   id                                             tags  \\\n",
            "0   0    [музыка, культура, музей, кинотеатр, религия]   \n",
            "1   1  [образование, курс, шопинг, митап, конференция]   \n",
            "2   2    [лес, культура, религия, образование, музыка]   \n",
            "3   3        [семья, бильярд, спорт, туризм, плавание]   \n",
            "4   4       [бильярд, семья, конный спорт, еда, спорт]   \n",
            "\n",
            "                                    stories  author_id  \\\n",
            "0                  [0, 1, 2, 3, 4, 5, 6, 7]         26   \n",
            "1            [8, 9, 10, 11, 12, 13, 14, 15]         78   \n",
            "2                      [16, 17, 18, 19, 20]         83   \n",
            "3                                      [21]         13   \n",
            "4  [22, 23, 24, 25, 26, 27, 28, 29, 30, 31]         25   \n",
            "\n",
            "                published_at  \n",
            "0 2024-06-05 10:40:13.481696  \n",
            "1 2024-05-25 10:40:13.482669  \n",
            "2 2024-06-08 10:40:13.483141  \n",
            "3 2024-05-26 10:40:13.483510  \n",
            "4 2024-06-01 10:40:13.483589  \n",
            "\n",
            "Истории:\n",
            "   id  goal_id  likes               published_at  author_id  \\\n",
            "0   0        0     14 2024-05-17 10:40:13.481726         26   \n",
            "1   1        0      3 2024-06-06 10:40:13.482126         26   \n",
            "2   2        0     18 2024-05-24 10:40:13.482169         26   \n",
            "3   3        0      1 2024-05-17 10:40:13.482268         26   \n",
            "4   4        0     20 2024-06-08 10:40:13.482306         26   \n",
            "\n",
            "                                            liked_by  \n",
            "0  [79, 62, 98, 31, 23, 2, 18, 40, 12, 6, 52, 7, ...  \n",
            "1                                       [79, 52, 11]  \n",
            "2  [36, 6, 13, 37, 57, 14, 15, 7, 56, 49, 30, 17,...  \n",
            "3                                                [2]  \n",
            "4  [67, 28, 19, 34, 57, 54, 90, 68, 17, 61, 5, 21...  \n"
          ]
        }
      ]
    },
    {
      "cell_type": "code",
      "source": [
        "from surprise import Dataset, Reader\n",
        "from surprise import SVD\n",
        "from surprise.model_selection import train_test_split\n",
        "from surprise import accuracy\n",
        "\n",
        "# Подготовка данных для Surprise\n",
        "def prepare_data_for_surprise(users, posts, stories):\n",
        "    data = []\n",
        "    for user_id in users['id']:\n",
        "        for post_id in posts['id']:\n",
        "            tags = posts.loc[posts['id'] == post_id, 'tags'].values[0]\n",
        "            interests = users.loc[users['id'] == user_id, 'interests'].values[0]\n",
        "            for tag in tags:\n",
        "                data.append({\n",
        "                    'user_id': user_id,\n",
        "                    'post_id': post_id,\n",
        "                    'tag': tag,\n",
        "                    'interest': 1 if tag in interests else 0\n",
        "                })\n",
        "    df = pd.DataFrame(data)\n",
        "\n",
        "    # Конвертация в формат Surprise\n",
        "    reader = Reader(rating_scale=(0, 1))\n",
        "    surprise_data = Dataset.load_from_df(df[['user_id', 'post_id', 'interest']], reader)\n",
        "\n",
        "    trainset, testset = train_test_split(surprise_data, test_size=0.2)\n",
        "    return trainset, testset\n",
        "\n",
        "trainset, testset = prepare_data_for_surprise(users, posts, stories)\n"
      ],
      "metadata": {
        "id": "sVTnAIj2-rPl"
      },
      "execution_count": 11,
      "outputs": []
    },
    {
      "cell_type": "code",
      "source": [
        "# Обучение модели SVD\n",
        "def train_model_surprise(trainset):\n",
        "    model = SVD()\n",
        "    model.fit(trainset)\n",
        "    return model\n",
        "\n",
        "model_surprise = train_model_surprise(trainset)\n"
      ],
      "metadata": {
        "id": "6rZqdzcGPTzu"
      },
      "execution_count": 12,
      "outputs": []
    },
    {
      "cell_type": "code",
      "source": [
        "# Оценка модели\n",
        "def evaluate_model_surprise(model, testset):\n",
        "    predictions = model.test(testset)\n",
        "    accuracy_rmse = accuracy.rmse(predictions)\n",
        "    accuracy_mae = accuracy.mae(predictions)\n",
        "    print(f\"RMSE: {accuracy_rmse}\")\n",
        "    print(f\"MAE: {accuracy_mae}\")\n",
        "\n",
        "evaluate_model_surprise(model_surprise, testset)\n"
      ],
      "metadata": {
        "colab": {
          "base_uri": "https://localhost:8080/"
        },
        "id": "C6HzmtCjP2Ci",
        "outputId": "ba81d17b-b093-454b-a5be-fbc7042a5780"
      },
      "execution_count": 13,
      "outputs": [
        {
          "output_type": "stream",
          "name": "stdout",
          "text": [
            "RMSE: 0.4125\n",
            "MAE:  0.3437\n",
            "RMSE: 0.41251892723712447\n",
            "MAE: 0.34374065995853414\n"
          ]
        }
      ]
    },
    {
      "cell_type": "code",
      "source": [
        "# Генерация рекомендаций для пользователя\n",
        "def generate_recommendations_surprise(user_id, model, posts, num_recommendations=5):\n",
        "    recommendations = []\n",
        "    for post_id in posts['id']:\n",
        "        prediction = model.predict(user_id, post_id)\n",
        "        if prediction.est >= 0.5:  # Пороговое значение для рекомендаций\n",
        "            recommendations.append(post_id)\n",
        "            if len(recommendations) >= num_recommendations:\n",
        "                break\n",
        "    return recommendations\n",
        "\n",
        "# Пример рекомендаций для пользователя с id 0\n",
        "recommendations_surprise = generate_recommendations_surprise(0, model_surprise, posts)\n",
        "print(f\"Рекомендации для пользователя 0: {recommendations_surprise}\")\n"
      ],
      "metadata": {
        "colab": {
          "base_uri": "https://localhost:8080/"
        },
        "id": "8rbxv4UXP5Pf",
        "outputId": "e6d15943-ba17-40fb-ea36-bdf3674f0fba"
      },
      "execution_count": 14,
      "outputs": [
        {
          "output_type": "stream",
          "name": "stdout",
          "text": [
            "Рекомендации для пользователя 0: [8, 19, 33, 40, 102]\n"
          ]
        }
      ]
    },
    {
      "cell_type": "code",
      "source": [
        "import joblib\n",
        "\n",
        "# Сохранение модели\n",
        "joblib.dump(model_surprise, 'model_surprise.pkl')\n"
      ],
      "metadata": {
        "id": "FtQUj-vwQdZe",
        "colab": {
          "base_uri": "https://localhost:8080/"
        },
        "outputId": "bbdff2cb-1e7b-488a-f0a8-ac2db1f732b4"
      },
      "execution_count": 15,
      "outputs": [
        {
          "output_type": "execute_result",
          "data": {
            "text/plain": [
              "['model_surprise.pkl']"
            ]
          },
          "metadata": {},
          "execution_count": 15
        }
      ]
    },
    {
      "cell_type": "code",
      "source": [],
      "metadata": {
        "id": "Wni6TmQMTpzC"
      },
      "execution_count": 15,
      "outputs": []
    }
  ]
}